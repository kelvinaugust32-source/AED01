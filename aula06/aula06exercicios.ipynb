{
 "cells": [
  {
   "cell_type": "code",
   "execution_count": 15,
   "id": "a89a4fba-d71d-4e27-968b-615cd9ebd617",
   "metadata": {},
   "outputs": [
    {
     "name": "stdin",
     "output_type": "stream",
     "text": [
      "Digite a sua idade: 16\n"
     ]
    }
   ],
   "source": [
    "idade =  int(input(\"Digite a sua idade:\"))"
   ]
  },
  {
   "cell_type": "code",
   "execution_count": 17,
   "id": "975be586-7656-4bcb-962f-a9e7004bd64a",
   "metadata": {},
   "outputs": [
    {
     "data": {
      "text/plain": [
       "int"
      ]
     },
     "execution_count": 17,
     "metadata": {},
     "output_type": "execute_result"
    }
   ],
   "source": [
    "type(idade)"
   ]
  },
  {
   "cell_type": "code",
   "execution_count": 19,
   "id": "63dc71da-9d8d-4468-a31d-2013523514b3",
   "metadata": {},
   "outputs": [
    {
     "name": "stdout",
     "output_type": "stream",
     "text": [
      "Espere mais um pouco!\n",
      "fim!\n"
     ]
    }
   ],
   "source": [
    "if idade >= 18:\n",
    "    print(\"Voce já é maior de idade!\")\n",
    "else:\n",
    "    print(\"Espere mais um pouco!\")\n",
    "print(\"fim!\")"
   ]
  },
  {
   "cell_type": "code",
   "execution_count": 23,
   "id": "ffd6c863-ed00-40d1-b039-f2ec3fce3468",
   "metadata": {},
   "outputs": [
    {
     "name": "stdin",
     "output_type": "stream",
     "text": [
      "Digite a note1:  6\n",
      "Digite a nota2:  7.5\n"
     ]
    },
    {
     "name": "stdout",
     "output_type": "stream",
     "text": [
      "A média foi:  6.75\n",
      "Aprovado(a)!\n"
     ]
    }
   ],
   "source": [
    "nota1 = float(input(\"Digite a note1: \"))\n",
    "nota2 = float(input(\"Digite a nota2: \"))\n",
    "media = (nota1 + nota2) / 2\n",
    "print(\"A média foi: \", media)\n",
    "if media >= 6:\n",
    "    print(\"Aprovado(a)!\")\n",
    "else:\n",
    "    print(\"Reprovado(a)!\")\n",
    "    "
   ]
  },
  {
   "cell_type": "code",
   "execution_count": 27,
   "id": "c643b6f3-e2f9-4f04-9f16-e16d3a0125f6",
   "metadata": {},
   "outputs": [
    {
     "name": "stdin",
     "output_type": "stream",
     "text": [
      "Digite um numero:  4\n"
     ]
    },
    {
     "name": "stdout",
     "output_type": "stream",
     "text": [
      "O número é positivo\n",
      "fim!\n"
     ]
    }
   ],
   "source": [
    "numero = int(input(\"Digite um numero: \"))\n",
    "if numero >= 0:\n",
    "    print(\"O número é positivo\")\n",
    "print(\"fim!\")"
   ]
  },
  {
   "cell_type": "code",
   "execution_count": 29,
   "id": "8d9eaa49-12a4-4a9a-9cc8-a175710a4845",
   "metadata": {},
   "outputs": [
    {
     "name": "stdin",
     "output_type": "stream",
     "text": [
      "Digite o prmeiro número 4\n",
      "Digite o segundo número 8\n"
     ]
    },
    {
     "name": "stdout",
     "output_type": "stream",
     "text": [
      "8.0 é maior que 4.0\n"
     ]
    }
   ],
   "source": [
    "n1 = float(input(\"Digite o prmeiro número\"))\n",
    "n2 = float(input(\"Digite o segundo número\"))\n",
    "if n1 > n2:\n",
    "    print(n1, \"é maior que\", n2)\n",
    "else:\n",
    "    print(n2, \"é maior que\", n1)"
   ]
  },
  {
   "cell_type": "code",
   "execution_count": 1,
   "id": "916e8822-2544-4baa-a175-744668801bf2",
   "metadata": {},
   "outputs": [
    {
     "name": "stdin",
     "output_type": "stream",
     "text": [
      "Digite uma letra:  a\n"
     ]
    },
    {
     "name": "stdout",
     "output_type": "stream",
     "text": [
      "A letra digitada é uma vogal!\n"
     ]
    }
   ],
   "source": [
    "letra = input(\"Digite uma letra: \")\n",
    "if letra == 'a' or letra == 'A':\n",
    "    print(\"A letra digitada é uma vogal!\")\n",
    "elif letra == 'e' or letra == 'E':\n",
    "    print(\"A letra digitada é uma vogal\")\n",
    "elif letra == 'i' or letra == 'I':\n",
    "    print(\"A letra digitada é uma vogal\")\n",
    "elif letra == 'o' or letra == 'O':\n",
    "    print(\"A letra digitada é uma vogal\")\n",
    "elif letra == 'u' or letra == 'U':\n",
    "    print(\"A letra digitada é uma vogal\")\n",
    "else:\n",
    "    print(\"A letra digitada é uma consoante\")"
   ]
  },
  {
   "cell_type": "code",
   "execution_count": 3,
   "id": "d9fd11df-c0fc-45b1-b87e-adfd66e67c2f",
   "metadata": {},
   "outputs": [
    {
     "name": "stdin",
     "output_type": "stream",
     "text": [
      "Entre com um número:  7\n"
     ]
    },
    {
     "name": "stdout",
     "output_type": "stream",
     "text": [
      "7 é impar positivo!\n"
     ]
    }
   ],
   "source": [
    "n = int(input(\"Entre com um número: \"))\n",
    "if (n >= 0):\n",
    "    if (n % 2) == 0:\n",
    "        print(n, \"é par positivo!\")\n",
    "    else:\n",
    "        print(n, \"é impar positivo!\")\n",
    "else:\n",
    "    if (abs(n) % 2) == 0:\n",
    "        print(n, \"n é par negativo!\")\n",
    "    else:\n",
    "        print(n, \"é impar negativo!\")\n",
    "        "
   ]
  },
  {
   "cell_type": "code",
   "execution_count": null,
   "id": "7b657e89-e202-4b1b-b5ee-bff041f26e4d",
   "metadata": {},
   "outputs": [],
   "source": [
    "categoria = int(input(\"Entre com a idade: \"))\n",
    "if categoria <= 7:\n",
    "    print(\"infantil\")\n",
    "elif categoria <="
   ]
  }
 ],
 "metadata": {
  "kernelspec": {
   "display_name": "Python [conda env:base] *",
   "language": "python",
   "name": "conda-base-py"
  },
  "language_info": {
   "codemirror_mode": {
    "name": "ipython",
    "version": 3
   },
   "file_extension": ".py",
   "mimetype": "text/x-python",
   "name": "python",
   "nbconvert_exporter": "python",
   "pygments_lexer": "ipython3",
   "version": "3.12.7"
  }
 },
 "nbformat": 4,
 "nbformat_minor": 5
}
